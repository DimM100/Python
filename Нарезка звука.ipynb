{
 "cells": [
  {
   "cell_type": "code",
   "execution_count": null,
   "metadata": {},
   "outputs": [],
   "source": [
    "import os\n",
    "from os.path import isdir, join\n",
    "from pathlib import Path\n",
    "\n",
    "import pandas as pd\n",
    "import scipy.misc as sc\n",
    "\n",
    "import numpy as np\n",
    "from scipy.fftpack import fft\n",
    "from scipy import signal\n",
    "from scipy.io import wavfile\n",
    "\n",
    "from IPython.display import Audio\n",
    "\n",
    "import matplotlib as plt\n",
    "import seaborn as sb"
   ]
  },
  {
   "cell_type": "code",
   "execution_count": null,
   "metadata": {},
   "outputs": [],
   "source": [
    "filename = '1-131.-Паровоз-для-машиниста.wav'\n",
    "sample_rate, samples = wavfile.read(filename)\n",
    "print(sample_rate)"
   ]
  },
  {
   "cell_type": "code",
   "execution_count": null,
   "metadata": {},
   "outputs": [],
   "source": [
    "len(samples)"
   ]
  },
  {
   "cell_type": "code",
   "execution_count": null,
   "metadata": {},
   "outputs": [],
   "source": [
    "Audio(samples[0:441000], rate=sample_rate)"
   ]
  },
  {
   "cell_type": "code",
   "execution_count": null,
   "metadata": {},
   "outputs": [],
   "source": [
    "max(samples[0:20000])"
   ]
  },
  {
   "cell_type": "code",
   "execution_count": null,
   "metadata": {},
   "outputs": [],
   "source": [
    "def choose_block(samples, len_block, basic_count, min_len_block):\n",
    "    start_block = 0\n",
    "    finish_block = 0\n",
    "    \n",
    "    last_count = 0\n",
    "    \n",
    "    block_words = []\n",
    "    weight = []\n",
    "    \n",
    "    for i in range(len(samples)//len_block - 1):\n",
    "        if abs(max(samples[len_block*i:len_block*(i+1)], key=abs)) > basic_count:\n",
    "            if abs(last_count) <= basic_count:\n",
    "                start_block = len_block*i   \n",
    "        else:\n",
    "            if abs(last_count) >= basic_count:\n",
    "                finish_block = len_block*(i+1)\n",
    "                if finish_block - start_block > min_len_block:\n",
    "                    block_words.append(samples[start_block:finish_block])\n",
    "\n",
    "        last_count = max(samples[len_block*i:len_block*(i+1)], key=abs)\n",
    "        weight.append(last_count)\n",
    "        \n",
    "    return block_words, weight"
   ]
  },
  {
   "cell_type": "code",
   "execution_count": null,
   "metadata": {},
   "outputs": [],
   "source": [
    "plt.pyplot.plot(weigth[0:1000])"
   ]
  },
  {
   "cell_type": "code",
   "execution_count": null,
   "metadata": {},
   "outputs": [],
   "source": [
    "block_words, weigth = choose_block(samples, 100, 20, 20000)"
   ]
  },
  {
   "cell_type": "code",
   "execution_count": null,
   "metadata": {},
   "outputs": [],
   "source": [
    "x_signal = [np.sin(x/10) for x in range(30000)]"
   ]
  },
  {
   "cell_type": "code",
   "execution_count": null,
   "metadata": {},
   "outputs": [],
   "source": [
    "Audio(block_words[3], rate=sample_rate)"
   ]
  },
  {
   "cell_type": "code",
   "execution_count": null,
   "metadata": {},
   "outputs": [],
   "source": [
    "text_sum = []\n",
    "for blocks in blocks_w_sum:\n",
    "    text_blocks = []\n",
    "    for block in blocks:\n",
    "        if block:\n",
    "            text = []\n",
    "            for bl in block:\n",
    "                text.append(len(bl))\n",
    "\n",
    "            text_blocks.append(max(text))\n",
    "    \n",
    "    text_sum.append(text_blocks)"
   ]
  },
  {
   "cell_type": "code",
   "execution_count": null,
   "metadata": {},
   "outputs": [],
   "source": [
    "blocks_w_sum = []\n",
    "weigths_sum = []\n",
    "\n",
    "for i in range(1, 10):\n",
    "    blocks_w = []\n",
    "    weigths = []\n",
    "    for j in range(1, 10):\n",
    "        block_words, weigth = choose_block(samples[:4410000], 100*i, 20*j, 20000)\n",
    "\n",
    "        blocks_w.append(block_words)\n",
    "        weigths.append(weigth)\n",
    "        print(\"Итерация \" + str(i) + \"/\" + str(j) + \" выполнена\")\n",
    "        \n",
    "    blocks_w_sum.append(blocks_w)\n",
    "    weigths_sum.append(weigths)"
   ]
  },
  {
   "cell_type": "code",
   "execution_count": null,
   "metadata": {},
   "outputs": [],
   "source": [
    "text_sum"
   ]
  },
  {
   "cell_type": "code",
   "execution_count": null,
   "metadata": {},
   "outputs": [],
   "source": [
    "k = []\n",
    "for i in blocks_w_sum[0][-2]:\n",
    "    k += list(i) + list(x_signal)"
   ]
  },
  {
   "cell_type": "code",
   "execution_count": null,
   "metadata": {},
   "outputs": [],
   "source": [
    "Audio(block_words[1], rate=sample_rate)"
   ]
  },
  {
   "cell_type": "code",
   "execution_count": null,
   "metadata": {},
   "outputs": [],
   "source": [
    "text = [\"здесь хорошо там где нас нет\", \n",
    "        \"\", \n",
    "        \"здесь где нас нет творятся героические дела и живут удивительные люди\", \n",
    "        \"здесь где нас нет растут невиданные урожаи и один за другим идут на смерть\", \n",
    "        \"здесь где нас нет женщин любят один раз и летчики\", \n",
    "        \"неимовер\", \n",
    "        \"как удался фестиваль где нас нет\",\n",
    "        \"как хороши рецепты блюд которые мы не видели\",\n",
    "        \"как точны станки на которых мы не работаем\",\n",
    "        \"как много делают для нас разные учреждения\",\n",
    "        \"а мы всё не там где-то\",\n",
    "        \"а мы в это время где-то не там находимся\"\n",
    "       ]"
   ]
  },
  {
   "cell_type": "code",
   "execution_count": null,
   "metadata": {},
   "outputs": [],
   "source": [
    "block_test_words, _ = choose_block(samples, 20, 100, 2500)"
   ]
  },
  {
   "cell_type": "code",
   "execution_count": null,
   "metadata": {},
   "outputs": [],
   "source": [
    "len(block_test_words)"
   ]
  },
  {
   "cell_type": "code",
   "execution_count": null,
   "metadata": {},
   "outputs": [],
   "source": [
    "a = sum([list(block) for block in block_test_words], [])"
   ]
  },
  {
   "cell_type": "code",
   "execution_count": null,
   "metadata": {},
   "outputs": [],
   "source": [
    "Audio(a, rate=sample_rate)"
   ]
  },
  {
   "cell_type": "code",
   "execution_count": null,
   "metadata": {},
   "outputs": [],
   "source": [
    "k = []\n",
    "for i in block_test_words:\n",
    "    k.append(len(i))\n",
    "    \n",
    "print(min(k))"
   ]
  },
  {
   "cell_type": "code",
   "execution_count": null,
   "metadata": {},
   "outputs": [],
   "source": [
    "k2 = []\n",
    "\n",
    "kn = {\"10k\": 0, \"20k\": 0, \"30k\": 0, \"50k\": 0}\n",
    "\n",
    "for i in block_test_words:\n",
    "    if len(i) > 50000:\n",
    "        kn[\"50k\"] += 1\n",
    "    else:\n",
    "        if len(i) > 30000:\n",
    "            kn[\"30k\"] += 1\n",
    "        else:\n",
    "            if len(i) > 20000:\n",
    "                kn[\"20k\"] += 1\n",
    "            else:\n",
    "                if len(i) > 5000:\n",
    "                    kn[\"10k\"] += 1"
   ]
  },
  {
   "cell_type": "code",
   "execution_count": null,
   "metadata": {},
   "outputs": [],
   "source": [
    "test_blocks2 = []\n",
    "\n",
    "for block in block_test_words:\n",
    "    if len(block) < 10000:\n",
    "        test_blocks2.append(block) "
   ]
  },
  {
   "cell_type": "code",
   "execution_count": null,
   "metadata": {},
   "outputs": [],
   "source": [
    "len(test_blocks2)"
   ]
  },
  {
   "cell_type": "code",
   "execution_count": null,
   "metadata": {},
   "outputs": [],
   "source": [
    "x_test_massiv = np.zeros([len(test_blocks2), 10000])\n",
    "\n",
    "for i in range(len(test_blocks2)):\n",
    "    x_test_massiv[i, :len(test_blocks2[i])] = test_blocks2[i]"
   ]
  },
  {
   "cell_type": "code",
   "execution_count": null,
   "metadata": {},
   "outputs": [],
   "source": [
    "print([abs(max(x, key=abs)) for x in x_test_massiv])"
   ]
  },
  {
   "cell_type": "code",
   "execution_count": null,
   "metadata": {},
   "outputs": [],
   "source": [
    "Audio(samples, rate=sample_rate)"
   ]
  },
  {
   "cell_type": "code",
   "execution_count": null,
   "metadata": {},
   "outputs": [],
   "source": [
    "Audio(block_test_words[200], rate=sample_rate)"
   ]
  },
  {
   "cell_type": "code",
   "execution_count": null,
   "metadata": {},
   "outputs": [],
   "source": [
    "y_test_massiv = [\"здесьхоро\", \"ш\", \"о\", \"там\", \"де\", \n",
    "                 \"на\", \"с\", \"здесь\", \"де\", \"нас\", \n",
    "                 \"не\", \"творя\", \"ца\", \"герои\", \"с\", \n",
    "                 \"и\", \"дела\", \"ижы\", \"вут\", \"и\", \n",
    "                 \"с\", \"десь\", \"де\", \"нас\", \"нет\", \n",
    "                 \"ас\", \"и\", \"и\", \"н\", \"ра\", \n",
    "                 \"жаи\", \"и\", \"дин\", \"з\", \"а\",\n",
    "                 \"ой\", \"с\", \"с\", \"зезь\", \"нет\",\n",
    "                 \"нас\", \"нет\", \"жень\", \"щи\", \"лю\",\n",
    "                 \"т\", \"ин\", \"рас\", \"илё\", \"ч\",\n",
    "                 \"как\", \"уд\", \"дался\", \"и\", \"ист\", \n",
    "                 \"те\", \"валь\", \"с\", \"как\", \"хороши\", \n",
    "                 \"ы\", \"це\", \"ты\", \"бль\", \"лю\",\n",
    "                 \"мы\", \"не\", \"ви\", \"как\", \"то\",\n",
    "                 \"ч\", \"ыс\", \"т\", \"ки\", \"на\",\n",
    "                 \"о\", \"а\", \"мн\", \"но\", \"де\", \n",
    "                 \"елаю\", \"для\", \"нас\", \"ра\", \"ны\",\n",
    "                 \"де\", \"амы\", \"всё\", \"ни\", \"та\",\n",
    "                 \"ам\", \"мывы\", \"товремя\", \"и\", \"там\", \n",
    "                 \"и\", \"тамнах\", \"о\", \"с\", \"илио\",\n",
    "                 \"и\", \"ас\", \"и\", \"тамыщу\", \"ивыс\", \n",
    "                 \"пай\", \"лю\", \"ир\", \"рас\", \"ка\", \n",
    "                 \"с\", \"а\", \"ы\", \"не\", \"но\",\n",
    "                 \"вляй\", \"е\", \"рис\", \"ра\", \"пере\", \n",
    "                 \"н\", \"но\", \"с\", \"расш\", \"де\",\n",
    "                 \"е\", \"дляу\", \"до\", \"с\", \"асиле\", \n",
    "                 \"и\", \"я\", \"лё\", \"удо\", \"ва\", \n",
    "                 \"населе\", \"нию\", \"о\", \"с\", \"населе\", \n",
    "                 \"ию\", \"ием\", \"и\", \"ия\", \"всём\", \n",
    "                 \"о\", \"с\", \"-\", \"населе\", \"ий\", \n",
    "                 \"ю\", \"ия\", \"деже\", \"эт\", \"аселе\", \n",
    "                 \"-\", \"ди\", \"ко\", \"би\", \"-\", \n",
    "                 \"всё\", \"с\", \"де\", \"сь\", \"во\", \n",
    "                 \"же\", \"н\", \"де\", \"совсем\", \"р\", \n",
    "                 \"я\", \"нуво\", \"же\", \"прямо\", \"о\", \n",
    "                 \"ну\", \"го\", \"дес\", \"на\", \"0\", \n",
    "                 \"твари\", \"тс\", \"ночинес\", \"пи\", \"сё\", \n",
    "                 \"ос\", \"так\", \"э\", \"де\", \"-\",\n",
    "                 \"-\", \"-\", \"-\", \"в\", \"дь\", \n",
    "                 \"о\", \"же\", \"ту\", \"т\", \"вально\"]"
   ]
  },
  {
   "cell_type": "code",
   "execution_count": null,
   "metadata": {},
   "outputs": [],
   "source": [
    "list_sumbol = {}\n",
    "\n",
    "for y_test in y_test_massiv:\n",
    "    for sumbol in y_test:\n",
    "        if sumbol in list_sumbol:\n",
    "            list_sumbol[sumbol] += 1\n",
    "        else:\n",
    "            list_sumbol[sumbol] = 1"
   ]
  },
  {
   "cell_type": "code",
   "execution_count": null,
   "metadata": {},
   "outputs": [],
   "source": [
    "keys_symbol = sorted(list_sumbol.keys())"
   ]
  },
  {
   "cell_type": "code",
   "execution_count": null,
   "metadata": {},
   "outputs": [],
   "source": [
    "matrix_symbol = np.zeros([len(y_test_massiv), len(keys_symbol)])\n",
    "i = 0\n",
    "\n",
    "for y_test in y_test_massiv:\n",
    "    for symbol in keys_symbol:\n",
    "        if symbol in y_test:\n",
    "            index_symb = keys_symbol.index(symbol)\n",
    "            matrix_symbol[i, index_symb] = 1\n",
    "    i += 1"
   ]
  },
  {
   "cell_type": "code",
   "execution_count": null,
   "metadata": {},
   "outputs": [],
   "source": [
    "X_train = x_test_massiv[:190]\n",
    "Y_train = matrix_symbol[:190]\n",
    "\n",
    "X_test = x_test_massiv[180:200]\n",
    "Y_test = matrix_symbol[180:200]"
   ]
  },
  {
   "cell_type": "code",
   "execution_count": null,
   "metadata": {},
   "outputs": [],
   "source": [
    "X_train.shape"
   ]
  },
  {
   "cell_type": "code",
   "execution_count": null,
   "metadata": {},
   "outputs": [],
   "source": [
    "n_m = np.zeros(Y_test.shape)"
   ]
  },
  {
   "cell_type": "code",
   "execution_count": null,
   "metadata": {},
   "outputs": [],
   "source": [
    "#Машинное обучение"
   ]
  },
  {
   "cell_type": "code",
   "execution_count": null,
   "metadata": {},
   "outputs": [],
   "source": [
    "from tensorflow.keras.models import Sequential\n",
    "from tensorflow.keras.layers import Dense"
   ]
  },
  {
   "cell_type": "code",
   "execution_count": null,
   "metadata": {},
   "outputs": [],
   "source": [
    "model = Sequential()\n",
    "model.add(Dense(100, input_dim=X_train.shape[1], activation='relu'))\n",
    "model.add(Dense(100, activation='relu'))\n",
    "model.add(Dense(Y_train.shape[1], activation='sigmoid'))"
   ]
  },
  {
   "cell_type": "code",
   "execution_count": null,
   "metadata": {},
   "outputs": [],
   "source": [
    "model.compile(loss=\"binary_crossentropy\", optimizer=\"adam\", metrics=['accuracy'])"
   ]
  },
  {
   "cell_type": "code",
   "execution_count": null,
   "metadata": {},
   "outputs": [],
   "source": [
    "model.fit(X_train, Y_train, epochs = 10, batch_size=20)"
   ]
  },
  {
   "cell_type": "code",
   "execution_count": null,
   "metadata": {},
   "outputs": [],
   "source": [
    "plt.pyplot.plot(block_words[1][0:50000])"
   ]
  },
  {
   "cell_type": "code",
   "execution_count": null,
   "metadata": {},
   "outputs": [],
   "source": [
    "scores = model.evaluate(X_test, n_m)"
   ]
  },
  {
   "cell_type": "code",
   "execution_count": null,
   "metadata": {},
   "outputs": [],
   "source": [
    "block_words, weigth = choose_block(samples, 100, 20, 20000)"
   ]
  },
  {
   "cell_type": "code",
   "execution_count": null,
   "metadata": {},
   "outputs": [],
   "source": [
    "FFT1 = fft(samples)"
   ]
  },
  {
   "cell_type": "code",
   "execution_count": null,
   "metadata": {},
   "outputs": [],
   "source": [
    "plt.pyplot.plot(abs(FFT1[:len(samples)//3])/len(samples))"
   ]
  },
  {
   "cell_type": "code",
   "execution_count": null,
   "metadata": {},
   "outputs": [],
   "source": [
    "plt.pyplot.plot(block_words[8])"
   ]
  },
  {
   "cell_type": "code",
   "execution_count": null,
   "metadata": {},
   "outputs": [],
   "source": [
    "n_start = 18221000\n",
    "n_finish = 18237000\n",
    "\n",
    "n_word = \"могут\""
   ]
  },
  {
   "cell_type": "code",
   "execution_count": null,
   "metadata": {
    "scrolled": true
   },
   "outputs": [],
   "source": [
    "Audio(samples[n_start:n_finish], rate=sample_rate)"
   ]
  },
  {
   "cell_type": "code",
   "execution_count": null,
   "metadata": {},
   "outputs": [],
   "source": [
    "#massiv_word = []"
   ]
  },
  {
   "cell_type": "code",
   "execution_count": null,
   "metadata": {},
   "outputs": [],
   "source": [
    "massiv_word.append(word(n_word, samples[n_start:n_finish]))"
   ]
  },
  {
   "cell_type": "code",
   "execution_count": null,
   "metadata": {},
   "outputs": [],
   "source": [
    "Audio(samples[n_start:], rate=sample_rate)"
   ]
  },
  {
   "cell_type": "code",
   "execution_count": null,
   "metadata": {},
   "outputs": [],
   "source": [
    "len(massiv_word[-1].massiv)"
   ]
  },
  {
   "cell_type": "code",
   "execution_count": null,
   "metadata": {},
   "outputs": [],
   "source": [
    "massiv_word[-1] = word(n_word, samples[n_start:])"
   ]
  },
  {
   "cell_type": "code",
   "execution_count": null,
   "metadata": {},
   "outputs": [],
   "source": [
    "for word_s in massiv_word:\n",
    "    print(word_s.text)"
   ]
  },
  {
   "cell_type": "code",
   "execution_count": null,
   "metadata": {},
   "outputs": [],
   "source": [
    "len(massiv_word)"
   ]
  },
  {
   "cell_type": "code",
   "execution_count": null,
   "metadata": {},
   "outputs": [],
   "source": [
    "n_w = 630\n",
    "for word_k in massiv_word:\n",
    "    wavfile.write(str(n_w) + '_' + word_k.text + '.wav', 44100, word_k.massiv) \n",
    "    n_w += 1"
   ]
  },
  {
   "cell_type": "code",
   "execution_count": null,
   "metadata": {},
   "outputs": [],
   "source": [
    "class word:\n",
    "    text = \"\"\n",
    "    massiv = []\n",
    "    \n",
    "    def __init__(self, text_1, massiv_1):\n",
    "        self.text = text_1\n",
    "        self.massiv = massiv_1"
   ]
  },
  {
   "cell_type": "code",
   "execution_count": null,
   "metadata": {},
   "outputs": [],
   "source": [
    "def get_list_file(index_dir):\n",
    "    from os import listdir\n",
    "    list_file_dir = sorted(listdir(index_dir))\n",
    "    \n",
    "    return list_file_dir"
   ]
  },
  {
   "cell_type": "code",
   "execution_count": null,
   "metadata": {},
   "outputs": [],
   "source": [
    "def get_text(text_file):\n",
    "    index = text_file.index('_')\n",
    "    text_new = text_file[index + 1:-4]\n",
    "    \n",
    "    return text_new"
   ]
  },
  {
   "cell_type": "code",
   "execution_count": null,
   "metadata": {},
   "outputs": [],
   "source": [
    "index_dir = \"C:\\\\Users\\\\defaultuser0\\\\Word\"\n",
    "\n",
    "info_file_massiv = get_list_file(index_dir)"
   ]
  },
  {
   "cell_type": "code",
   "execution_count": null,
   "metadata": {},
   "outputs": [],
   "source": [
    "list_file_text = {}\n",
    "\n",
    "for info_file in info_file_massiv:\n",
    "    text = get_text(info_file)\n",
    "    if text not in list_file_text:\n",
    "        list_file_text[text] = 1\n",
    "    else:\n",
    "        list_file_text[text] += 1"
   ]
  },
  {
   "cell_type": "code",
   "execution_count": null,
   "metadata": {},
   "outputs": [],
   "source": [
    "m = list(list_file_text.items()).sort(key = lambda x: x[1])"
   ]
  },
  {
   "cell_type": "code",
   "execution_count": null,
   "metadata": {},
   "outputs": [],
   "source": [
    "print(m)"
   ]
  },
  {
   "cell_type": "code",
   "execution_count": null,
   "metadata": {},
   "outputs": [],
   "source": []
  }
 ],
 "metadata": {
  "kernelspec": {
   "display_name": "Python 3",
   "language": "python",
   "name": "python3"
  }
 },
 "nbformat": 4,
 "nbformat_minor": 2
}
